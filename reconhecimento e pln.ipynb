{
 "cells": [
  {
   "cell_type": "code",
   "execution_count": 3,
   "id": "723280ff",
   "metadata": {
    "collapsed": true
   },
   "outputs": [
    {
     "name": "stdout",
     "output_type": "stream",
     "text": [
      "Collecting pyttsx3\n",
      "  Downloading pyttsx3-2.90-py3-none-any.whl (39 kB)\n",
      "Collecting comtypes (from pyttsx3)\n",
      "  Downloading comtypes-1.2.0-py2.py3-none-any.whl (184 kB)\n",
      "                                              0.0/184.3 kB ? eta -:--:--\n",
      "     ------------------------------------- 184.3/184.3 kB 10.9 MB/s eta 0:00:00\n",
      "Collecting pypiwin32 (from pyttsx3)\n",
      "  Downloading pypiwin32-223-py3-none-any.whl (1.7 kB)\n",
      "Requirement already satisfied: pywin32 in c:\\users\\victor\\anaconda3\\lib\\site-packages (from pyttsx3) (305.1)\n",
      "Installing collected packages: comtypes, pypiwin32, pyttsx3\n",
      "Successfully installed comtypes-1.2.0 pypiwin32-223 pyttsx3-2.90\n"
     ]
    }
   ],
   "source": [
    "#pip install SpeechRecognition\n",
    "# !pip install pyaudio\n",
    "# !pip install nltk\n",
    "# !pip install fsspec>=2023.5.0\n",
    "# !pip install pyttsx3\n"
   ]
  },
  {
   "cell_type": "code",
   "execution_count": 2,
   "id": "cdc1a276",
   "metadata": {
    "scrolled": true
   },
   "outputs": [
    {
     "name": "stdout",
     "output_type": "stream",
     "text": [
      "Texto transcrito:\n",
      "shit I left my keys at home\n"
     ]
    }
   ],
   "source": [
    "#RECONHECIMENTO E TRANSCRIÇÃO\n",
    "#USANDO ARQUIVO EXTERNO\n",
    "\n",
    "import speech_recognition as sr\n",
    "\n",
    "def transcrever_audio(caminho_audio):\n",
    "    recognizer = sr.Recognizer()\n",
    "\n",
    "    with sr.AudioFile(caminho_audio) as audio_file:\n",
    "        audio = recognizer.record(audio_file)\n",
    "\n",
    "        try:\n",
    "            texto_transcrito = recognizer.recognize_google(audio, language=\"en\") #language = \"en\" para inglês, \"pt-BR\" para português\n",
    "            return texto_transcrito\n",
    "        except sr.UnknownValueError:\n",
    "            print(\"Não foi possível reconhecer o áudio\")\n",
    "        except sr.RequestError as e:\n",
    "            print(f\"Erro na requisição para o serviço de reconhecimento de fala: {e}\")\n",
    "            \n",
    "#arquivos disponíveis no repositório:\n",
    "#Audio 1 - en - reconhecimento.wav - áudio em inglês\n",
    "#Audio 1 - reconhecimento.wav - áudio em português\n",
    "#Gravando.wav - áudio em inglês\n",
    "\n",
    "caminho_do_audio = \"audios teste reconhecimento/Gravando.wav\"\n",
    "texto_transcrito = transcrever_audio(caminho_do_audio)\n",
    "\n",
    "if texto_transcrito:\n",
    "    print(\"Texto transcrito:\")\n",
    "    print(texto_transcrito)\n"
   ]
  },
  {
   "cell_type": "code",
   "execution_count": 14,
   "id": "b83451d6",
   "metadata": {},
   "outputs": [
    {
     "name": "stdout",
     "output_type": "stream",
     "text": [
      "Sentimento: Negativo\n"
     ]
    }
   ],
   "source": [
    "#ANÁLISE COM PNL\n",
    "\n",
    "import nltk\n",
    "from nltk.sentiment import SentimentIntensityAnalyzer\n",
    "\n",
    "# nltk.download('vader_lexicon')\n",
    "\n",
    "def analisar_sentimento(texto):\n",
    "    sia = SentimentIntensityAnalyzer()\n",
    "    resultado = sia.polarity_scores(texto)\n",
    "\n",
    "    if resultado['compound'] >= 0.05:\n",
    "        return 'Positivo'\n",
    "    elif resultado['compound'] <= -0.05:\n",
    "        return 'Negativo'\n",
    "    else:\n",
    "        return 'Neutro'\n",
    "\n",
    "if __name__ == \"__main__\":\n",
    "    sentimento = analisar_sentimento(texto_transcrito) #texto_transcrito deve ser a variável gerada no passo anterior\n",
    "\n",
    "    print(f\"Sentimento: {sentimento}\")\n"
   ]
  },
  {
   "cell_type": "code",
   "execution_count": null,
   "id": "87fdd724",
   "metadata": {},
   "outputs": [
    {
     "name": "stdout",
     "output_type": "stream",
     "text": [
      "Fale algo...\n"
     ]
    }
   ],
   "source": [
    "#TENTATIVA DE INTERFACE\n",
    "\n",
    "import speech_recognition as sr\n",
    "import tkinter as tk\n",
    "from threading import Thread\n",
    "\n",
    "class TranscricaoAudioGUI:\n",
    "    def __init__(self):\n",
    "        self.root = tk.Tk()\n",
    "        self.root.title(\"Transcrição de Áudio\")\n",
    "\n",
    "        self.label_status = tk.Label(self.root, text=\"Pressione Iniciar para falar.\")\n",
    "        self.label_status.pack(pady=10)\n",
    "\n",
    "        self.botao_iniciar = tk.Button(self.root, text=\"Iniciar\", command=self.iniciar_transcricao)\n",
    "        self.botao_iniciar.pack(pady=10)\n",
    "\n",
    "        self.botao_parar = tk.Button(self.root, text=\"Parar\", command=self.parar_transcricao, state=tk.DISABLED)\n",
    "        self.botao_parar.pack(pady=10)\n",
    "\n",
    "        self.transcricao_texto = tk.Text(self.root, height=5, width=40)\n",
    "        self.transcricao_texto.pack(pady=10)\n",
    "\n",
    "        self.recognizer = sr.Recognizer()\n",
    "        self.microfone = sr.Microphone()\n",
    "\n",
    "        self.transcricao_thread = None\n",
    "        self.transcricao_em_andamento = False\n",
    "\n",
    "    def iniciar_transcricao(self):\n",
    "        self.label_status.config(text=\"Gravação em andamento...\")\n",
    "        self.botao_iniciar.config(state=tk.DISABLED)\n",
    "        self.botao_parar.config(state=tk.NORMAL)\n",
    "        self.transcricao_texto.delete(1.0, tk.END)\n",
    "\n",
    "        self.transcricao_em_andamento = True\n",
    "        self.transcricao_thread = Thread(target=self.transcrever_audio_microfone)\n",
    "        self.transcricao_thread.start()\n",
    "\n",
    "    def parar_transcricao(self):\n",
    "        self.label_status.config(text=\"Pressione Iniciar para falar.\")\n",
    "        self.botao_iniciar.config(state=tk.NORMAL)\n",
    "        self.botao_parar.config(state=tk.DISABLED)\n",
    "        self.transcricao_em_andamento = False\n",
    "\n",
    "    def transcrever_audio_microfone(self):\n",
    "        while self.transcricao_em_andamento:\n",
    "            with self.microfone as source:\n",
    "                print(\"Fale algo...\")\n",
    "                self.recognizer.adjust_for_ambient_noise(source)\n",
    "                audio = self.recognizer.listen(source, timeout=10)\n",
    "\n",
    "            try:\n",
    "                texto_transcrito = self.recognizer.recognize_google(audio, language=\"pt-BR\")\n",
    "                self.transcricao_texto.insert(tk.END, texto_transcrito + \"\\n\")\n",
    "            except sr.UnknownValueError:\n",
    "                print(\"Não foi possível reconhecer o áudio\")\n",
    "            except sr.RequestError as e:\n",
    "                print(f\"Erro na requisição para o serviço de reconhecimento de fala: {e}\")\n",
    "\n",
    "    def iniciar_aplicacao(self):\n",
    "        self.root.mainloop()\n",
    "\n",
    "if __name__ == \"__main__\":\n",
    "    aplicacao = TranscricaoAudioGUI()\n",
    "    aplicacao.iniciar_aplicacao()\n"
   ]
  }
 ],
 "metadata": {
  "kernelspec": {
   "display_name": "Python 3 (ipykernel)",
   "language": "python",
   "name": "python3"
  },
  "language_info": {
   "codemirror_mode": {
    "name": "ipython",
    "version": 3
   },
   "file_extension": ".py",
   "mimetype": "text/x-python",
   "name": "python",
   "nbconvert_exporter": "python",
   "pygments_lexer": "ipython3",
   "version": "3.11.3"
  }
 },
 "nbformat": 4,
 "nbformat_minor": 5
}
